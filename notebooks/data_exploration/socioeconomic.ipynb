{
 "cells": [
  {
   "cell_type": "code",
   "execution_count": null,
   "id": "76bc2308",
   "metadata": {},
   "outputs": [
    {
     "data": {
      "text/html": [
       "<div>\n",
       "<style scoped>\n",
       "    .dataframe tbody tr th:only-of-type {\n",
       "        vertical-align: middle;\n",
       "    }\n",
       "\n",
       "    .dataframe tbody tr th {\n",
       "        vertical-align: top;\n",
       "    }\n",
       "\n",
       "    .dataframe thead th {\n",
       "        text-align: right;\n",
       "    }\n",
       "</style>\n",
       "<table border=\"1\" class=\"dataframe\">\n",
       "  <thead>\n",
       "    <tr style=\"text-align: right;\">\n",
       "      <th></th>\n",
       "      <th>Province</th>\n",
       "      <th>anio</th>\n",
       "      <th>pib</th>\n",
       "    </tr>\n",
       "  </thead>\n",
       "  <tbody>\n",
       "    <tr>\n",
       "      <th>0</th>\n",
       "      <td>Araba/Alava</td>\n",
       "      <td>2000-01-01</td>\n",
       "      <td>22.134</td>\n",
       "    </tr>\n",
       "    <tr>\n",
       "      <th>1</th>\n",
       "      <td>Albacete</td>\n",
       "      <td>2000-01-01</td>\n",
       "      <td>12.032</td>\n",
       "    </tr>\n",
       "    <tr>\n",
       "      <th>2</th>\n",
       "      <td>Alicante/Alacant</td>\n",
       "      <td>2000-01-01</td>\n",
       "      <td>14.140</td>\n",
       "    </tr>\n",
       "    <tr>\n",
       "      <th>3</th>\n",
       "      <td>Almeria</td>\n",
       "      <td>2000-01-01</td>\n",
       "      <td>15.192</td>\n",
       "    </tr>\n",
       "    <tr>\n",
       "      <th>4</th>\n",
       "      <td>Avila</td>\n",
       "      <td>2000-01-01</td>\n",
       "      <td>12.532</td>\n",
       "    </tr>\n",
       "  </tbody>\n",
       "</table>\n",
       "</div>"
      ],
      "text/plain": [
       "           Province        anio     pib\n",
       "0       Araba/Alava  2000-01-01  22.134\n",
       "1          Albacete  2000-01-01  12.032\n",
       "2  Alicante/Alacant  2000-01-01  14.140\n",
       "3           Almeria  2000-01-01  15.192\n",
       "4             Avila  2000-01-01  12.532"
      ]
     },
     "execution_count": 3,
     "metadata": {},
     "output_type": "execute_result"
    }
   ],
   "source": [
    "import pandas as pd\n",
    "from pathlib import Path\n",
    "\n",
    "current_dir = Path().resolve()\n",
    "socioeconomic_raw_csv_path = current_dir.parent.parent / \"src\" / \"database\" / \"data\" / \"socioeconomic_data\" / \"raw\" / \"PIB per cap provincias 2000-2021.csv\"\n",
    "socioeconomic_processed_csv_path = current_dir.parent.parent / \"src\" / \"database\" / \"data\" / \"socioeconomic_data\" / \"processed\" / \"socioeconomic.csv\"\n",
    "\n",
    "raw_socioeconomic_df = pd.read_csv(socioeconomic_raw_csv_path, sep=';', decimal=',', encoding='ISO-8859-1')\n",
    "socioeconomic_df = pd.read_csv(socioeconomic_processed_csv_path)\n",
    "#socioeconomic_df.head()\n",
    "#raw_socioeconomic_df.head()"
   ]
  }
 ],
 "metadata": {
  "kernelspec": {
   "display_name": ".venv",
   "language": "python",
   "name": "python3"
  },
  "language_info": {
   "codemirror_mode": {
    "name": "ipython",
    "version": 3
   },
   "file_extension": ".py",
   "mimetype": "text/x-python",
   "name": "python",
   "nbconvert_exporter": "python",
   "pygments_lexer": "ipython3",
   "version": "3.13.3"
  }
 },
 "nbformat": 4,
 "nbformat_minor": 5
}
